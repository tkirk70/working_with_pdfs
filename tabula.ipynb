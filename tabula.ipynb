{
 "cells": [
  {
   "cell_type": "markdown",
   "id": "52e9675a",
   "metadata": {},
   "source": [
    "# Trying Tabula-Py"
   ]
  },
  {
   "cell_type": "code",
   "execution_count": 1,
   "id": "c7eea826",
   "metadata": {},
   "outputs": [
    {
     "name": "stderr",
     "output_type": "stream",
     "text": [
      "'pages' argument isn't specified.Will extract only from page 1 by default.\n"
     ]
    }
   ],
   "source": [
    "import tabula\n",
    "\n",
    "# Read pdf into a list of DataFrame\n",
    "dfs = tabula.read_pdf(\"upperright.pdf\")"
   ]
  },
  {
   "cell_type": "code",
   "execution_count": 2,
   "id": "e283302d",
   "metadata": {},
   "outputs": [
    {
     "data": {
      "text/plain": [
       "[  TCG Continuum, LLC       Date  P.O. No.\n",
       " 0  3423 Southpark Pl        NaN       NaN\n",
       " 1            Suite B  7/20/2022  500518.0,\n",
       "                    Vendor                                          Account #  \\\n",
       " 0   Upper Right Marketing                                                NaN   \n",
       " 1         Lindsey Seibert                                                NaN   \n",
       " 2          675 Setzer Way                                                NaN   \n",
       " 3     Lexington, KY 40508                                                NaN   \n",
       " 4                     USA                                                NaN   \n",
       " 5                   Item:                                        Description   \n",
       " 6                     NaN                         * N30 from Payment Receipt   \n",
       " 7                     NaN                  *Damage & Defective Allowance: 4%   \n",
       " 8                     NaN  *Freight prepaid for all in and outbound bulk ...   \n",
       " 9                     NaN              *DO NOT SHIP. TRACY BAKER TO PICKUP.*   \n",
       " 10                    NaN  *Items for a new Willow & Pine order received ...   \n",
       " 11           843191170202                       UR9640 - SILKS TASTING GLASS   \n",
       " 12           843191124687     UR2431 – Commonwealth of Bourbon Tasting Glass   \n",
       " 13           843191169787               UR2416 - SPRING RACING TASTING GLASS   \n",
       " 14           843191124793                 UR2419 - FALL RACING TASTING GLASS   \n",
       " 15           843191156329                         UR9634 - SILKS ROCKS GLASS   \n",
       " 16                    NaN                                                NaN   \n",
       " \n",
       "     Unnamed: 0  Unnamed: 1               Ship To Unnamed: 2  Unnamed: 3  \\\n",
       " 0          NaN         NaN           Tracy Baker        NaN         NaN   \n",
       " 1          NaN         NaN        3110 Dade Cove        NaN         NaN   \n",
       " 2          NaN         NaN  Owensboro, KY  42303        NaN         NaN   \n",
       " 3          NaN         NaN                   NaN        NaN         NaN   \n",
       " 4          NaN         NaN                   NaN        NaN         NaN   \n",
       " 5          NaN  Color/Size                   Qty       Rate         NaN   \n",
       " 6          NaN         NaN                   NaN        NaN         NaN   \n",
       " 7          NaN         NaN                   NaN        NaN         NaN   \n",
       " 8          NaN         NaN                   NaN        NaN         NaN   \n",
       " 9          NaN         NaN                   NaN        NaN         NaN   \n",
       " 10         NaN         NaN                   NaN        NaN         NaN   \n",
       " 11         NaN         NaN                    12        NaN         4.5   \n",
       " 12         NaN         NaN                    12        NaN         4.5   \n",
       " 13         NaN         NaN                    12        NaN         4.5   \n",
       " 14         NaN         NaN                    12        NaN         4.5   \n",
       " 15         NaN         NaN                    24        NaN         4.5   \n",
       " 16         NaN         NaN                 Total        NaN         NaN   \n",
       " \n",
       "    Unnamed: 4  \n",
       " 0         NaN  \n",
       " 1         NaN  \n",
       " 2         NaN  \n",
       " 3         NaN  \n",
       " 4         NaN  \n",
       " 5      Amount  \n",
       " 6         NaN  \n",
       " 7         NaN  \n",
       " 8         NaN  \n",
       " 9         NaN  \n",
       " 10        NaN  \n",
       " 11      54.00  \n",
       " 12      54.00  \n",
       " 13      54.00  \n",
       " 14      54.00  \n",
       " 15     108.00  \n",
       " 16    $324.00  ]"
      ]
     },
     "execution_count": 2,
     "metadata": {},
     "output_type": "execute_result"
    }
   ],
   "source": [
    "dfs"
   ]
  },
  {
   "cell_type": "code",
   "execution_count": 3,
   "id": "2503b1db",
   "metadata": {},
   "outputs": [
    {
     "data": {
      "text/plain": [
       "2"
      ]
     },
     "execution_count": 3,
     "metadata": {},
     "output_type": "execute_result"
    }
   ],
   "source": [
    "len(dfs)"
   ]
  },
  {
   "cell_type": "code",
   "execution_count": 4,
   "id": "44ca7c29",
   "metadata": {},
   "outputs": [
    {
     "name": "stdout",
     "output_type": "stream",
     "text": [
      "TCG Continuum, LLC\n",
      "Date\n",
      "P.O. No.\n"
     ]
    }
   ],
   "source": [
    "for item in dfs[0]:\n",
    "    print(item)"
   ]
  },
  {
   "cell_type": "code",
   "execution_count": 5,
   "id": "0f04f5c2",
   "metadata": {},
   "outputs": [
    {
     "name": "stdout",
     "output_type": "stream",
     "text": [
      "Vendor\n",
      "Account #\n",
      "Unnamed: 0\n",
      "Unnamed: 1\n",
      "Ship To\n",
      "Unnamed: 2\n",
      "Unnamed: 3\n",
      "Unnamed: 4\n"
     ]
    }
   ],
   "source": [
    "for item in dfs[1]:\n",
    "    print(item)"
   ]
  },
  {
   "cell_type": "code",
   "execution_count": 6,
   "id": "5b1a0c13",
   "metadata": {},
   "outputs": [
    {
     "name": "stdout",
     "output_type": "stream",
     "text": [
      "Upper Right Marketing\n",
      "Lindsey Seibert\n",
      "675 Setzer Way\n",
      "Lexington, KY 40508\n",
      "USA\n",
      "Item:\n",
      "nan\n",
      "nan\n",
      "nan\n",
      "nan\n",
      "nan\n",
      "843191170202\n",
      "843191124687\n",
      "843191169787\n",
      "843191124793\n",
      "843191156329\n",
      "nan\n"
     ]
    }
   ],
   "source": [
    "for item in dfs[1]['Vendor']:\n",
    "    print(item)"
   ]
  },
  {
   "cell_type": "code",
   "execution_count": 7,
   "id": "38c07f29",
   "metadata": {},
   "outputs": [
    {
     "name": "stdout",
     "output_type": "stream",
     "text": [
      "nan\n",
      "nan\n",
      "nan\n",
      "nan\n",
      "nan\n",
      "Description\n",
      "* N30 from Payment Receipt\n",
      "*Damage & Defective Allowance: 4%\n",
      "*Freight prepaid for all in and outbound bulk product\n",
      "*DO NOT SHIP. TRACY BAKER TO PICKUP.*\n",
      "*Items for a new Willow & Pine order received today 7.20.22*\n",
      "UR9640 - SILKS TASTING GLASS\n",
      "UR2431 – Commonwealth of Bourbon Tasting Glass\n",
      "UR2416 - SPRING RACING TASTING GLASS\n",
      "UR2419 - FALL RACING TASTING GLASS\n",
      "UR9634 - SILKS ROCKS GLASS\n",
      "nan\n"
     ]
    }
   ],
   "source": [
    "for item in dfs[1]['Account #']:\n",
    "    print(item)"
   ]
  },
  {
   "cell_type": "code",
   "execution_count": 8,
   "id": "4323763b",
   "metadata": {},
   "outputs": [
    {
     "data": {
      "text/plain": [
       "500518.0"
      ]
     },
     "execution_count": 8,
     "metadata": {},
     "output_type": "execute_result"
    }
   ],
   "source": [
    "dfs[0][\"P.O. No.\"][1]"
   ]
  },
  {
   "cell_type": "code",
   "execution_count": 9,
   "id": "9c241dcb",
   "metadata": {},
   "outputs": [
    {
     "data": {
      "text/plain": [
       "0                                                   NaN\n",
       "1                                                   NaN\n",
       "2                                                   NaN\n",
       "3                                                   NaN\n",
       "4                                                   NaN\n",
       "5                                           Description\n",
       "6                            * N30 from Payment Receipt\n",
       "7                     *Damage & Defective Allowance: 4%\n",
       "8     *Freight prepaid for all in and outbound bulk ...\n",
       "9                 *DO NOT SHIP. TRACY BAKER TO PICKUP.*\n",
       "10    *Items for a new Willow & Pine order received ...\n",
       "11                         UR9640 - SILKS TASTING GLASS\n",
       "12       UR2431 – Commonwealth of Bourbon Tasting Glass\n",
       "13                 UR2416 - SPRING RACING TASTING GLASS\n",
       "14                   UR2419 - FALL RACING TASTING GLASS\n",
       "15                           UR9634 - SILKS ROCKS GLASS\n",
       "16                                                  NaN\n",
       "Name: Account #, dtype: object"
      ]
     },
     "execution_count": 9,
     "metadata": {},
     "output_type": "execute_result"
    }
   ],
   "source": [
    "dfs[1]['Account #']"
   ]
  },
  {
   "cell_type": "code",
   "execution_count": 10,
   "id": "006dd3d9",
   "metadata": {},
   "outputs": [
    {
     "name": "stdout",
     "output_type": "stream",
     "text": [
      "Tracy Baker\n",
      "3110 Dade Cove\n",
      "Owensboro, KY  42303\n",
      "nan\n",
      "nan\n",
      "Qty\n",
      "nan\n",
      "nan\n",
      "nan\n",
      "nan\n",
      "nan\n",
      "12\n",
      "12\n",
      "12\n",
      "12\n",
      "24\n",
      "Total\n"
     ]
    }
   ],
   "source": [
    "for item in dfs[1]['Ship To']:\n",
    "    print(item)"
   ]
  },
  {
   "cell_type": "code",
   "execution_count": 11,
   "id": "cb1802ed",
   "metadata": {},
   "outputs": [
    {
     "name": "stdout",
     "output_type": "stream",
     "text": [
      "nan\n",
      "nan\n",
      "nan\n",
      "nan\n",
      "nan\n",
      "nan\n",
      "nan\n",
      "nan\n",
      "nan\n",
      "nan\n",
      "nan\n",
      "4.5\n",
      "4.5\n",
      "4.5\n",
      "4.5\n",
      "4.5\n",
      "nan\n"
     ]
    }
   ],
   "source": [
    "for item in dfs[1]['Unnamed: 3']:\n",
    "    print(item)"
   ]
  },
  {
   "cell_type": "code",
   "execution_count": 12,
   "id": "1bd4cf2c",
   "metadata": {},
   "outputs": [
    {
     "name": "stdout",
     "output_type": "stream",
     "text": [
      "nan\n",
      "500518.0\n"
     ]
    }
   ],
   "source": [
    "for item in dfs[0][\"P.O. No.\"]:\n",
    "    print(item)"
   ]
  },
  {
   "cell_type": "code",
   "execution_count": 13,
   "id": "7f439f77",
   "metadata": {},
   "outputs": [
    {
     "data": {
      "text/plain": [
       "0         NaN\n",
       "1    500518.0\n",
       "Name: P.O. No., dtype: float64"
      ]
     },
     "execution_count": 13,
     "metadata": {},
     "output_type": "execute_result"
    }
   ],
   "source": [
    "dfs[0][\"P.O. No.\"]"
   ]
  },
  {
   "cell_type": "code",
   "execution_count": 14,
   "id": "2b592154",
   "metadata": {},
   "outputs": [],
   "source": [
    "import pandas as pd"
   ]
  },
  {
   "cell_type": "code",
   "execution_count": 15,
   "id": "601ee3e7",
   "metadata": {},
   "outputs": [],
   "source": [
    "nme = []\n",
    "for item in dfs[1]['Vendor']:\n",
    "    nme.append(item)"
   ]
  },
  {
   "cell_type": "code",
   "execution_count": 16,
   "id": "946babf2",
   "metadata": {},
   "outputs": [],
   "source": [
    "qty = []\n",
    "for item in dfs[1]['Ship To']:\n",
    "    qty.append(item)"
   ]
  },
  {
   "cell_type": "code",
   "execution_count": 17,
   "id": "f3810ff6",
   "metadata": {},
   "outputs": [],
   "source": [
    "rte = []\n",
    "for item in dfs[1]['Unnamed: 3']:\n",
    "    rte.append(item)"
   ]
  },
  {
   "cell_type": "code",
   "execution_count": 18,
   "id": "a5e60287",
   "metadata": {},
   "outputs": [
    {
     "data": {
      "text/plain": [
       "17"
      ]
     },
     "execution_count": 18,
     "metadata": {},
     "output_type": "execute_result"
    }
   ],
   "source": [
    "len(dfs[1]['Unnamed: 3'])"
   ]
  },
  {
   "cell_type": "code",
   "execution_count": null,
   "id": "2695e691",
   "metadata": {},
   "outputs": [],
   "source": []
  },
  {
   "cell_type": "code",
   "execution_count": 19,
   "id": "a3e7061d",
   "metadata": {},
   "outputs": [],
   "source": [
    "po = []\n",
    "for item in dfs[0][\"P.O. No.\"]:\n",
    "    po.append(item)"
   ]
  },
  {
   "cell_type": "code",
   "execution_count": 20,
   "id": "795867b0",
   "metadata": {},
   "outputs": [
    {
     "data": {
      "text/plain": [
       "2"
      ]
     },
     "execution_count": 20,
     "metadata": {},
     "output_type": "execute_result"
    }
   ],
   "source": [
    "len(dfs[0][\"P.O. No.\"])"
   ]
  },
  {
   "cell_type": "code",
   "execution_count": 21,
   "id": "9af29111",
   "metadata": {},
   "outputs": [
    {
     "data": {
      "text/plain": [
       "17"
      ]
     },
     "execution_count": 21,
     "metadata": {},
     "output_type": "execute_result"
    }
   ],
   "source": [
    "len(dfs[1]['Account #'])"
   ]
  },
  {
   "cell_type": "code",
   "execution_count": null,
   "id": "f189f422",
   "metadata": {},
   "outputs": [],
   "source": []
  },
  {
   "cell_type": "code",
   "execution_count": 22,
   "id": "85a965f1",
   "metadata": {},
   "outputs": [],
   "source": [
    "ntz = []\n",
    "for item in dfs[1]['Account #']:\n",
    "    ntz.append(item)"
   ]
  },
  {
   "cell_type": "code",
   "execution_count": 23,
   "id": "4838a8ba",
   "metadata": {},
   "outputs": [],
   "source": [
    "dict1 = {'Item': nme, 'Quantity': qty, 'Rate': rte}"
   ]
  },
  {
   "cell_type": "code",
   "execution_count": 24,
   "id": "03350b0e",
   "metadata": {},
   "outputs": [],
   "source": [
    "df = pd.DataFrame(dict1)"
   ]
  },
  {
   "cell_type": "code",
   "execution_count": 25,
   "id": "4b2432e2",
   "metadata": {},
   "outputs": [
    {
     "data": {
      "text/html": [
       "<div>\n",
       "<style scoped>\n",
       "    .dataframe tbody tr th:only-of-type {\n",
       "        vertical-align: middle;\n",
       "    }\n",
       "\n",
       "    .dataframe tbody tr th {\n",
       "        vertical-align: top;\n",
       "    }\n",
       "\n",
       "    .dataframe thead th {\n",
       "        text-align: right;\n",
       "    }\n",
       "</style>\n",
       "<table border=\"1\" class=\"dataframe\">\n",
       "  <thead>\n",
       "    <tr style=\"text-align: right;\">\n",
       "      <th></th>\n",
       "      <th>Item</th>\n",
       "      <th>Quantity</th>\n",
       "      <th>Rate</th>\n",
       "    </tr>\n",
       "  </thead>\n",
       "  <tbody>\n",
       "    <tr>\n",
       "      <th>0</th>\n",
       "      <td>Upper Right Marketing</td>\n",
       "      <td>Tracy Baker</td>\n",
       "      <td>NaN</td>\n",
       "    </tr>\n",
       "    <tr>\n",
       "      <th>1</th>\n",
       "      <td>Lindsey Seibert</td>\n",
       "      <td>3110 Dade Cove</td>\n",
       "      <td>NaN</td>\n",
       "    </tr>\n",
       "    <tr>\n",
       "      <th>2</th>\n",
       "      <td>675 Setzer Way</td>\n",
       "      <td>Owensboro, KY  42303</td>\n",
       "      <td>NaN</td>\n",
       "    </tr>\n",
       "    <tr>\n",
       "      <th>3</th>\n",
       "      <td>Lexington, KY 40508</td>\n",
       "      <td>NaN</td>\n",
       "      <td>NaN</td>\n",
       "    </tr>\n",
       "    <tr>\n",
       "      <th>4</th>\n",
       "      <td>USA</td>\n",
       "      <td>NaN</td>\n",
       "      <td>NaN</td>\n",
       "    </tr>\n",
       "    <tr>\n",
       "      <th>5</th>\n",
       "      <td>Item:</td>\n",
       "      <td>Qty</td>\n",
       "      <td>NaN</td>\n",
       "    </tr>\n",
       "    <tr>\n",
       "      <th>6</th>\n",
       "      <td>NaN</td>\n",
       "      <td>NaN</td>\n",
       "      <td>NaN</td>\n",
       "    </tr>\n",
       "    <tr>\n",
       "      <th>7</th>\n",
       "      <td>NaN</td>\n",
       "      <td>NaN</td>\n",
       "      <td>NaN</td>\n",
       "    </tr>\n",
       "    <tr>\n",
       "      <th>8</th>\n",
       "      <td>NaN</td>\n",
       "      <td>NaN</td>\n",
       "      <td>NaN</td>\n",
       "    </tr>\n",
       "    <tr>\n",
       "      <th>9</th>\n",
       "      <td>NaN</td>\n",
       "      <td>NaN</td>\n",
       "      <td>NaN</td>\n",
       "    </tr>\n",
       "    <tr>\n",
       "      <th>10</th>\n",
       "      <td>NaN</td>\n",
       "      <td>NaN</td>\n",
       "      <td>NaN</td>\n",
       "    </tr>\n",
       "    <tr>\n",
       "      <th>11</th>\n",
       "      <td>843191170202</td>\n",
       "      <td>12</td>\n",
       "      <td>4.5</td>\n",
       "    </tr>\n",
       "    <tr>\n",
       "      <th>12</th>\n",
       "      <td>843191124687</td>\n",
       "      <td>12</td>\n",
       "      <td>4.5</td>\n",
       "    </tr>\n",
       "    <tr>\n",
       "      <th>13</th>\n",
       "      <td>843191169787</td>\n",
       "      <td>12</td>\n",
       "      <td>4.5</td>\n",
       "    </tr>\n",
       "    <tr>\n",
       "      <th>14</th>\n",
       "      <td>843191124793</td>\n",
       "      <td>12</td>\n",
       "      <td>4.5</td>\n",
       "    </tr>\n",
       "    <tr>\n",
       "      <th>15</th>\n",
       "      <td>843191156329</td>\n",
       "      <td>24</td>\n",
       "      <td>4.5</td>\n",
       "    </tr>\n",
       "    <tr>\n",
       "      <th>16</th>\n",
       "      <td>NaN</td>\n",
       "      <td>Total</td>\n",
       "      <td>NaN</td>\n",
       "    </tr>\n",
       "  </tbody>\n",
       "</table>\n",
       "</div>"
      ],
      "text/plain": [
       "                     Item              Quantity  Rate\n",
       "0   Upper Right Marketing           Tracy Baker   NaN\n",
       "1         Lindsey Seibert        3110 Dade Cove   NaN\n",
       "2          675 Setzer Way  Owensboro, KY  42303   NaN\n",
       "3     Lexington, KY 40508                   NaN   NaN\n",
       "4                     USA                   NaN   NaN\n",
       "5                   Item:                   Qty   NaN\n",
       "6                     NaN                   NaN   NaN\n",
       "7                     NaN                   NaN   NaN\n",
       "8                     NaN                   NaN   NaN\n",
       "9                     NaN                   NaN   NaN\n",
       "10                    NaN                   NaN   NaN\n",
       "11           843191170202                    12   4.5\n",
       "12           843191124687                    12   4.5\n",
       "13           843191169787                    12   4.5\n",
       "14           843191124793                    12   4.5\n",
       "15           843191156329                    24   4.5\n",
       "16                    NaN                 Total   NaN"
      ]
     },
     "execution_count": 25,
     "metadata": {},
     "output_type": "execute_result"
    }
   ],
   "source": [
    "df"
   ]
  },
  {
   "cell_type": "code",
   "execution_count": 26,
   "id": "846a7a40",
   "metadata": {},
   "outputs": [
    {
     "data": {
      "text/html": [
       "<div>\n",
       "<style scoped>\n",
       "    .dataframe tbody tr th:only-of-type {\n",
       "        vertical-align: middle;\n",
       "    }\n",
       "\n",
       "    .dataframe tbody tr th {\n",
       "        vertical-align: top;\n",
       "    }\n",
       "\n",
       "    .dataframe thead th {\n",
       "        text-align: right;\n",
       "    }\n",
       "</style>\n",
       "<table border=\"1\" class=\"dataframe\">\n",
       "  <thead>\n",
       "    <tr style=\"text-align: right;\">\n",
       "      <th></th>\n",
       "      <th>Item</th>\n",
       "      <th>Quantity</th>\n",
       "      <th>Rate</th>\n",
       "    </tr>\n",
       "  </thead>\n",
       "  <tbody>\n",
       "    <tr>\n",
       "      <th>11</th>\n",
       "      <td>843191170202</td>\n",
       "      <td>12</td>\n",
       "      <td>4.5</td>\n",
       "    </tr>\n",
       "    <tr>\n",
       "      <th>12</th>\n",
       "      <td>843191124687</td>\n",
       "      <td>12</td>\n",
       "      <td>4.5</td>\n",
       "    </tr>\n",
       "    <tr>\n",
       "      <th>13</th>\n",
       "      <td>843191169787</td>\n",
       "      <td>12</td>\n",
       "      <td>4.5</td>\n",
       "    </tr>\n",
       "    <tr>\n",
       "      <th>14</th>\n",
       "      <td>843191124793</td>\n",
       "      <td>12</td>\n",
       "      <td>4.5</td>\n",
       "    </tr>\n",
       "    <tr>\n",
       "      <th>15</th>\n",
       "      <td>843191156329</td>\n",
       "      <td>24</td>\n",
       "      <td>4.5</td>\n",
       "    </tr>\n",
       "  </tbody>\n",
       "</table>\n",
       "</div>"
      ],
      "text/plain": [
       "            Item Quantity  Rate\n",
       "11  843191170202       12   4.5\n",
       "12  843191124687       12   4.5\n",
       "13  843191169787       12   4.5\n",
       "14  843191124793       12   4.5\n",
       "15  843191156329       24   4.5"
      ]
     },
     "execution_count": 26,
     "metadata": {},
     "output_type": "execute_result"
    }
   ],
   "source": [
    "df.dropna(inplace=True)\n",
    "df"
   ]
  },
  {
   "cell_type": "code",
   "execution_count": 27,
   "id": "943014a9",
   "metadata": {},
   "outputs": [],
   "source": [
    "df['PO'] = dfs[0][\"P.O. No.\"][1]"
   ]
  },
  {
   "cell_type": "code",
   "execution_count": 28,
   "id": "09bc09f0",
   "metadata": {},
   "outputs": [],
   "source": [
    "df['Notes'] = dfs[1]['Account #'][9]"
   ]
  },
  {
   "cell_type": "code",
   "execution_count": 29,
   "id": "6d343a0b",
   "metadata": {},
   "outputs": [],
   "source": [
    "from datetime import datetime\n",
    "\n",
    "stamp = datetime.now()\n",
    "stamp_string = str(stamp)"
   ]
  },
  {
   "cell_type": "code",
   "execution_count": 30,
   "id": "e5e59274",
   "metadata": {},
   "outputs": [],
   "source": [
    "df.to_excel(f'current_upperright_po3.xlsx', index=False)"
   ]
  },
  {
   "cell_type": "code",
   "execution_count": 31,
   "id": "22cd38fc",
   "metadata": {},
   "outputs": [
    {
     "data": {
      "text/plain": [
       "datetime.datetime(2022, 7, 22, 9, 34, 49, 72562)"
      ]
     },
     "execution_count": 31,
     "metadata": {},
     "output_type": "execute_result"
    }
   ],
   "source": [
    "stamp"
   ]
  },
  {
   "cell_type": "code",
   "execution_count": null,
   "id": "26bd3b40",
   "metadata": {},
   "outputs": [],
   "source": []
  },
  {
   "cell_type": "code",
   "execution_count": 32,
   "id": "c7ec4b2c",
   "metadata": {},
   "outputs": [],
   "source": [
    "# convert PDF into CSV\n",
    "tabula.convert_into(\"upperright.pdf\", \"output_tabula.csv\", output_format=\"csv\", pages='all')"
   ]
  }
 ],
 "metadata": {
  "kernelspec": {
   "display_name": "Python 3 (ipykernel)",
   "language": "python",
   "name": "python3"
  },
  "language_info": {
   "codemirror_mode": {
    "name": "ipython",
    "version": 3
   },
   "file_extension": ".py",
   "mimetype": "text/x-python",
   "name": "python",
   "nbconvert_exporter": "python",
   "pygments_lexer": "ipython3",
   "version": "3.9.7"
  }
 },
 "nbformat": 4,
 "nbformat_minor": 5
}
